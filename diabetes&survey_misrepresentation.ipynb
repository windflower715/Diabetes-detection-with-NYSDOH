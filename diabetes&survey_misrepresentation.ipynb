{
 "cells": [
  {
   "cell_type": "markdown",
   "metadata": {},
   "source": [
    "# Predict health status misrepresentation\n",
    "reference number: 4234337\n",
    "\n",
    "objective: Identify misrepresentation in survey by predicting respondent's health status for Diabetes \n",
    "\n",
    "\n",
    "\n",
    "# Content: \n",
    "1. Data cleaning and exploratory analysis\n",
    "2. Diabetes detection model\n",
    "3. Improving diabetes detection model \n",
    "4. Identify misrepresentations\n",
    "5. Experiment with Neural Network for diabetes prediction"
   ]
  },
  {
   "cell_type": "code",
   "execution_count": 1,
   "metadata": {},
   "outputs": [
    {
     "name": "stderr",
     "output_type": "stream",
     "text": [
      "/Users/windflower715/anaconda/lib/python3.5/site-packages/sklearn/cross_validation.py:41: DeprecationWarning: This module was deprecated in version 0.18 in favor of the model_selection module into which all the refactored classes and functions are moved. Also note that the interface of the new CV iterators are different from that of this module. This module will be removed in 0.20.\n",
      "  \"This module will be removed in 0.20.\", DeprecationWarning)\n"
     ]
    }
   ],
   "source": [
    "import pandas as pd\n",
    "import seaborn as sn\n",
    "import matplotlib.pyplot as plt\n",
    "import numpy as np \n",
    "\n",
    "from sklearn import metrics\n",
    "from sklearn.metrics import confusion_matrix, accuracy_score, classification_report, roc_auc_score, recall_score, precision_score,f1_score \n",
    "from sklearn.ensemble import RandomForestClassifier\n",
    "from sklearn.linear_model import LogisticRegressionCV,LogisticRegression\n",
    "from sklearn.neighbors import KNeighborsClassifier\n",
    "from sklearn.naive_bayes import GaussianNB\n",
    "from sklearn.svm import SVC \n",
    "from sklearn.cross_validation import train_test_split\n",
    "\n",
    "from imblearn.over_sampling import SMOTE\n",
    "from sklearn.model_selection import GridSearchCV,RandomizedSearchCV\n",
    "\n",
    "plt.style.use('seaborn-deep')\n",
    "%matplotlib inline\n"
   ]
  },
  {
   "cell_type": "markdown",
   "metadata": {},
   "source": [
    "# Data cleaning and exploratory analysis\n",
    "\n",
    "1. remove columns with constant value \n",
    "2. remove columns with over 30% of NA vaues\n",
    "3. remove variables with high collinearity\n",
    "4. look at the distribution of predicted class(Yes/No)"
   ]
  },
  {
   "cell_type": "code",
   "execution_count": 2,
   "metadata": {},
   "outputs": [
    {
     "data": {
      "text/html": [
       "<div>\n",
       "<style scoped>\n",
       "    .dataframe tbody tr th:only-of-type {\n",
       "        vertical-align: middle;\n",
       "    }\n",
       "\n",
       "    .dataframe tbody tr th {\n",
       "        vertical-align: top;\n",
       "    }\n",
       "\n",
       "    .dataframe thead th {\n",
       "        text-align: right;\n",
       "    }\n",
       "</style>\n",
       "<table border=\"1\" class=\"dataframe\">\n",
       "  <thead>\n",
       "    <tr style=\"text-align: right;\">\n",
       "      <th></th>\n",
       "      <th>STATE</th>\n",
       "      <th>GEOSTR</th>\n",
       "      <th>DENSTR2</th>\n",
       "      <th>PRECALL</th>\n",
       "      <th>REPNUM</th>\n",
       "      <th>REPDEPTH</th>\n",
       "      <th>FMONTH</th>\n",
       "      <th>IDATE</th>\n",
       "      <th>IMONTH</th>\n",
       "      <th>IDAY</th>\n",
       "      <th>...</th>\n",
       "      <th>HCVPRIME</th>\n",
       "      <th>HCVPRIMA</th>\n",
       "      <th>HLTHPREG</th>\n",
       "      <th>PREGEVER</th>\n",
       "      <th>BRTHCNTL3</th>\n",
       "      <th>TYPCNTRL2</th>\n",
       "      <th>NOBCUSE2</th>\n",
       "      <th>PFCHLDFT</th>\n",
       "      <th>PRNTLVIT</th>\n",
       "      <th>REGION</th>\n",
       "    </tr>\n",
       "  </thead>\n",
       "  <tbody>\n",
       "    <tr>\n",
       "      <th>0</th>\n",
       "      <td>New York</td>\n",
       "      <td>201</td>\n",
       "      <td>D</td>\n",
       "      <td>To be called</td>\n",
       "      <td>40136</td>\n",
       "      <td>28</td>\n",
       "      <td>April</td>\n",
       "      <td>4252014</td>\n",
       "      <td>4</td>\n",
       "      <td>25</td>\n",
       "      <td>...</td>\n",
       "      <td>Not asked or Missing</td>\n",
       "      <td>Not asked or Missing</td>\n",
       "      <td>Not asked or Missing</td>\n",
       "      <td>Not asked or Missing</td>\n",
       "      <td>NaN</td>\n",
       "      <td>NaN</td>\n",
       "      <td>NaN</td>\n",
       "      <td>Not asked or Missing</td>\n",
       "      <td>NaN</td>\n",
       "      <td>NYS exclusive of NYC</td>\n",
       "    </tr>\n",
       "    <tr>\n",
       "      <th>1</th>\n",
       "      <td>New York</td>\n",
       "      <td>202</td>\n",
       "      <td>D</td>\n",
       "      <td>To be called</td>\n",
       "      <td>10105</td>\n",
       "      <td>17</td>\n",
       "      <td>January</td>\n",
       "      <td>3162014</td>\n",
       "      <td>3</td>\n",
       "      <td>16</td>\n",
       "      <td>...</td>\n",
       "      <td>Not asked or Missing</td>\n",
       "      <td>Not asked or Missing</td>\n",
       "      <td>Not asked or Missing</td>\n",
       "      <td>Not asked or Missing</td>\n",
       "      <td>NaN</td>\n",
       "      <td>NaN</td>\n",
       "      <td>NaN</td>\n",
       "      <td>Not asked or Missing</td>\n",
       "      <td>NaN</td>\n",
       "      <td>New York City (NYC)</td>\n",
       "    </tr>\n",
       "    <tr>\n",
       "      <th>2</th>\n",
       "      <td>New York</td>\n",
       "      <td>201</td>\n",
       "      <td>D</td>\n",
       "      <td>To be called</td>\n",
       "      <td>110014</td>\n",
       "      <td>4</td>\n",
       "      <td>November</td>\n",
       "      <td>11292014</td>\n",
       "      <td>November</td>\n",
       "      <td>29</td>\n",
       "      <td>...</td>\n",
       "      <td>Not asked or Missing</td>\n",
       "      <td>Not asked or Missing</td>\n",
       "      <td>Not asked or Missing</td>\n",
       "      <td>Not asked or Missing</td>\n",
       "      <td>NaN</td>\n",
       "      <td>NaN</td>\n",
       "      <td>NaN</td>\n",
       "      <td>Not asked or Missing</td>\n",
       "      <td>NaN</td>\n",
       "      <td>NYS exclusive of NYC</td>\n",
       "    </tr>\n",
       "    <tr>\n",
       "      <th>3</th>\n",
       "      <td>New York</td>\n",
       "      <td>201</td>\n",
       "      <td>D</td>\n",
       "      <td>To be called</td>\n",
       "      <td>110083</td>\n",
       "      <td>6</td>\n",
       "      <td>November</td>\n",
       "      <td>11252014</td>\n",
       "      <td>November</td>\n",
       "      <td>25</td>\n",
       "      <td>...</td>\n",
       "      <td>Not asked or Missing</td>\n",
       "      <td>Not asked or Missing</td>\n",
       "      <td>Not asked or Missing</td>\n",
       "      <td>Not asked or Missing</td>\n",
       "      <td>NaN</td>\n",
       "      <td>NaN</td>\n",
       "      <td>NaN</td>\n",
       "      <td>Not asked or Missing</td>\n",
       "      <td>NaN</td>\n",
       "      <td>NYS exclusive of NYC</td>\n",
       "    </tr>\n",
       "    <tr>\n",
       "      <th>4</th>\n",
       "      <td>New York</td>\n",
       "      <td>202</td>\n",
       "      <td>D</td>\n",
       "      <td>To be called</td>\n",
       "      <td>50129</td>\n",
       "      <td>7</td>\n",
       "      <td>May</td>\n",
       "      <td>10052014</td>\n",
       "      <td>October</td>\n",
       "      <td>5</td>\n",
       "      <td>...</td>\n",
       "      <td>Not asked or Missing</td>\n",
       "      <td>Not asked or Missing</td>\n",
       "      <td>Not asked or Missing</td>\n",
       "      <td>Not asked or Missing</td>\n",
       "      <td>NaN</td>\n",
       "      <td>NaN</td>\n",
       "      <td>NaN</td>\n",
       "      <td>Not asked or Missing</td>\n",
       "      <td>NaN</td>\n",
       "      <td>New York City (NYC)</td>\n",
       "    </tr>\n",
       "  </tbody>\n",
       "</table>\n",
       "<p>5 rows × 120 columns</p>\n",
       "</div>"
      ],
      "text/plain": [
       "      STATE  GEOSTR DENSTR2       PRECALL  REPNUM  REPDEPTH    FMONTH  \\\n",
       "0  New York     201       D  To be called   40136        28     April   \n",
       "1  New York     202       D  To be called   10105        17   January   \n",
       "2  New York     201       D  To be called  110014         4  November   \n",
       "3  New York     201       D  To be called  110083         6  November   \n",
       "4  New York     202       D  To be called   50129         7       May   \n",
       "\n",
       "      IDATE    IMONTH  IDAY          ...                       HCVPRIME  \\\n",
       "0   4252014         4    25          ...           Not asked or Missing   \n",
       "1   3162014         3    16          ...           Not asked or Missing   \n",
       "2  11292014  November    29          ...           Not asked or Missing   \n",
       "3  11252014  November    25          ...           Not asked or Missing   \n",
       "4  10052014   October     5          ...           Not asked or Missing   \n",
       "\n",
       "               HCVPRIMA              HLTHPREG              PREGEVER  \\\n",
       "0  Not asked or Missing  Not asked or Missing  Not asked or Missing   \n",
       "1  Not asked or Missing  Not asked or Missing  Not asked or Missing   \n",
       "2  Not asked or Missing  Not asked or Missing  Not asked or Missing   \n",
       "3  Not asked or Missing  Not asked or Missing  Not asked or Missing   \n",
       "4  Not asked or Missing  Not asked or Missing  Not asked or Missing   \n",
       "\n",
       "   BRTHCNTL3  TYPCNTRL2  NOBCUSE2              PFCHLDFT PRNTLVIT  \\\n",
       "0        NaN        NaN       NaN  Not asked or Missing      NaN   \n",
       "1        NaN        NaN       NaN  Not asked or Missing      NaN   \n",
       "2        NaN        NaN       NaN  Not asked or Missing      NaN   \n",
       "3        NaN        NaN       NaN  Not asked or Missing      NaN   \n",
       "4        NaN        NaN       NaN  Not asked or Missing      NaN   \n",
       "\n",
       "                 REGION  \n",
       "0  NYS exclusive of NYC  \n",
       "1   New York City (NYC)  \n",
       "2  NYS exclusive of NYC  \n",
       "3  NYS exclusive of NYC  \n",
       "4   New York City (NYC)  \n",
       "\n",
       "[5 rows x 120 columns]"
      ]
     },
     "execution_count": 2,
     "metadata": {},
     "output_type": "execute_result"
    }
   ],
   "source": [
    "#specify the encoding ='cp1252' to read in the data correctly\n",
    "df = pd.read_csv('SBU_example_Surveydata_2014.csv',encoding='cp1252')\n",
    "df.head()"
   ]
  },
  {
   "cell_type": "code",
   "execution_count": 3,
   "metadata": {},
   "outputs": [],
   "source": [
    "#detect the columns that has a constant value\n",
    "constant_columns = []\n",
    "for i in df.columns:\n",
    "    if len(df[i].unique()) ==1:\n",
    "        constant_columns.append(i)\n",
    " \n",
    "\n",
    "#detect columns with more than 30% NAs\n",
    "nas_columns = []\n",
    "for i in df.columns:\n",
    "    if sum(df[i].isnull())/len(df[i]) > 0.3 :\n",
    "        nas_columns.append(i)\n",
    "        \n",
    "\n",
    "#remove meaningless columns based on the description from data dictionary\n",
    "meaningless_columns = ['DENSTR2','PRECALL','REPNUM', 'REPDEPTH', 'FMONTH','IDATE', 'IMONTH', 'IDAY',\n",
    "                       'IYEAR','SEQNO','PSU', 'NATTMPTS', 'NRECSTR','PVTRESD1','COLGHOUS','STATERES','CELLFON3',\n",
    "                       'LADULT','DISPCODE','NRECSEL','NRECSTR','PVTRESD1','NUMADULT']\n",
    "\n",
    "        \n",
    "removed_columns = constant_columns +nas_columns+meaningless_columns\n",
    "df.drop(columns = removed_columns, inplace = True)"
   ]
  },
  {
   "cell_type": "code",
   "execution_count": 4,
   "metadata": {},
   "outputs": [],
   "source": [
    "# create the df_y dataframe\n",
    "df_y = df['DIABETE3']\n",
    "\n",
    "# remove the DIABETE3 column from the initial\n",
    "df.drop('DIABETE3', axis=1, inplace=True)\n",
    "\n",
    "# convert the categorical values to dummies and add the DIABETE3 column\n",
    "df_x =pd.get_dummies(df, drop_first=True)\n"
   ]
  },
  {
   "cell_type": "code",
   "execution_count": 5,
   "metadata": {},
   "outputs": [],
   "source": [
    "def correlation(dataset, threshold):\n",
    "    col_corr = set() # Set of all the names of deleted columns\n",
    "    corr_matrix = dataset.corr()\n",
    "    for i in range(len(corr_matrix.columns)):\n",
    "        for j in range(i):\n",
    "            if abs(corr_matrix.iloc[i, j]) > threshold:\n",
    "                colname = corr_matrix.columns[i] \n",
    "                col_corr.add(colname)\n",
    "                if colname in dataset.columns:\n",
    "                    del dataset[colname] \n",
    "    return(dataset)\n",
    "\n",
    "df_xnew = correlation(df_x,0.75)"
   ]
  },
  {
   "cell_type": "code",
   "execution_count": 6,
   "metadata": {},
   "outputs": [
    {
     "data": {
      "text/html": [
       "<div>\n",
       "<style scoped>\n",
       "    .dataframe tbody tr th:only-of-type {\n",
       "        vertical-align: middle;\n",
       "    }\n",
       "\n",
       "    .dataframe tbody tr th {\n",
       "        vertical-align: top;\n",
       "    }\n",
       "\n",
       "    .dataframe thead th {\n",
       "        text-align: right;\n",
       "    }\n",
       "</style>\n",
       "<table border=\"1\" class=\"dataframe\">\n",
       "  <thead>\n",
       "    <tr style=\"text-align: right;\">\n",
       "      <th></th>\n",
       "      <th>GEOSTR</th>\n",
       "      <th>GENHLTH_Excellent</th>\n",
       "      <th>GENHLTH_Fair</th>\n",
       "      <th>GENHLTH_Good</th>\n",
       "      <th>GENHLTH_Poor</th>\n",
       "      <th>GENHLTH_Refused</th>\n",
       "      <th>GENHLTH_Very good</th>\n",
       "      <th>PHYSHLTH_None</th>\n",
       "      <th>PHYSHLTH_Refused</th>\n",
       "      <th>MENTHLTH_None</th>\n",
       "      <th>...</th>\n",
       "      <th>HCVPRIME_Refused</th>\n",
       "      <th>HCVPRIME_Yes</th>\n",
       "      <th>HCVPRIMA_Not sure/dont know</th>\n",
       "      <th>HLTHPREG_Not asked or Missing</th>\n",
       "      <th>HLTHPREG_Not sure/dont know</th>\n",
       "      <th>HLTHPREG_Refused</th>\n",
       "      <th>HLTHPREG_Yes</th>\n",
       "      <th>PREGEVER_Refused</th>\n",
       "      <th>REGION_New York City (NYC)</th>\n",
       "      <th>DIABETE3</th>\n",
       "    </tr>\n",
       "  </thead>\n",
       "  <tbody>\n",
       "    <tr>\n",
       "      <th>0</th>\n",
       "      <td>201</td>\n",
       "      <td>0</td>\n",
       "      <td>0</td>\n",
       "      <td>0</td>\n",
       "      <td>0</td>\n",
       "      <td>0</td>\n",
       "      <td>1</td>\n",
       "      <td>1</td>\n",
       "      <td>0</td>\n",
       "      <td>1</td>\n",
       "      <td>...</td>\n",
       "      <td>0</td>\n",
       "      <td>0</td>\n",
       "      <td>0</td>\n",
       "      <td>1</td>\n",
       "      <td>0</td>\n",
       "      <td>0</td>\n",
       "      <td>0</td>\n",
       "      <td>0</td>\n",
       "      <td>0</td>\n",
       "      <td>No</td>\n",
       "    </tr>\n",
       "    <tr>\n",
       "      <th>1</th>\n",
       "      <td>202</td>\n",
       "      <td>0</td>\n",
       "      <td>0</td>\n",
       "      <td>0</td>\n",
       "      <td>0</td>\n",
       "      <td>0</td>\n",
       "      <td>1</td>\n",
       "      <td>1</td>\n",
       "      <td>0</td>\n",
       "      <td>1</td>\n",
       "      <td>...</td>\n",
       "      <td>0</td>\n",
       "      <td>0</td>\n",
       "      <td>0</td>\n",
       "      <td>1</td>\n",
       "      <td>0</td>\n",
       "      <td>0</td>\n",
       "      <td>0</td>\n",
       "      <td>0</td>\n",
       "      <td>1</td>\n",
       "      <td>No</td>\n",
       "    </tr>\n",
       "    <tr>\n",
       "      <th>2</th>\n",
       "      <td>201</td>\n",
       "      <td>0</td>\n",
       "      <td>0</td>\n",
       "      <td>1</td>\n",
       "      <td>0</td>\n",
       "      <td>0</td>\n",
       "      <td>0</td>\n",
       "      <td>0</td>\n",
       "      <td>0</td>\n",
       "      <td>1</td>\n",
       "      <td>...</td>\n",
       "      <td>0</td>\n",
       "      <td>0</td>\n",
       "      <td>0</td>\n",
       "      <td>1</td>\n",
       "      <td>0</td>\n",
       "      <td>0</td>\n",
       "      <td>0</td>\n",
       "      <td>0</td>\n",
       "      <td>0</td>\n",
       "      <td>No</td>\n",
       "    </tr>\n",
       "    <tr>\n",
       "      <th>3</th>\n",
       "      <td>201</td>\n",
       "      <td>0</td>\n",
       "      <td>0</td>\n",
       "      <td>0</td>\n",
       "      <td>0</td>\n",
       "      <td>0</td>\n",
       "      <td>1</td>\n",
       "      <td>1</td>\n",
       "      <td>0</td>\n",
       "      <td>1</td>\n",
       "      <td>...</td>\n",
       "      <td>0</td>\n",
       "      <td>0</td>\n",
       "      <td>0</td>\n",
       "      <td>1</td>\n",
       "      <td>0</td>\n",
       "      <td>0</td>\n",
       "      <td>0</td>\n",
       "      <td>0</td>\n",
       "      <td>0</td>\n",
       "      <td>No</td>\n",
       "    </tr>\n",
       "    <tr>\n",
       "      <th>4</th>\n",
       "      <td>202</td>\n",
       "      <td>1</td>\n",
       "      <td>0</td>\n",
       "      <td>0</td>\n",
       "      <td>0</td>\n",
       "      <td>0</td>\n",
       "      <td>0</td>\n",
       "      <td>1</td>\n",
       "      <td>0</td>\n",
       "      <td>0</td>\n",
       "      <td>...</td>\n",
       "      <td>0</td>\n",
       "      <td>0</td>\n",
       "      <td>0</td>\n",
       "      <td>1</td>\n",
       "      <td>0</td>\n",
       "      <td>0</td>\n",
       "      <td>0</td>\n",
       "      <td>0</td>\n",
       "      <td>1</td>\n",
       "      <td>No</td>\n",
       "    </tr>\n",
       "  </tbody>\n",
       "</table>\n",
       "<p>5 rows × 221 columns</p>\n",
       "</div>"
      ],
      "text/plain": [
       "   GEOSTR  GENHLTH_Excellent  GENHLTH_Fair  GENHLTH_Good  GENHLTH_Poor  \\\n",
       "0     201                  0             0             0             0   \n",
       "1     202                  0             0             0             0   \n",
       "2     201                  0             0             1             0   \n",
       "3     201                  0             0             0             0   \n",
       "4     202                  1             0             0             0   \n",
       "\n",
       "   GENHLTH_Refused  GENHLTH_Very good  PHYSHLTH_None  PHYSHLTH_Refused  \\\n",
       "0                0                  1              1                 0   \n",
       "1                0                  1              1                 0   \n",
       "2                0                  0              0                 0   \n",
       "3                0                  1              1                 0   \n",
       "4                0                  0              1                 0   \n",
       "\n",
       "   MENTHLTH_None    ...     HCVPRIME_Refused  HCVPRIME_Yes  \\\n",
       "0              1    ...                    0             0   \n",
       "1              1    ...                    0             0   \n",
       "2              1    ...                    0             0   \n",
       "3              1    ...                    0             0   \n",
       "4              0    ...                    0             0   \n",
       "\n",
       "   HCVPRIMA_Not sure/dont know  HLTHPREG_Not asked or Missing  \\\n",
       "0                            0                              1   \n",
       "1                            0                              1   \n",
       "2                            0                              1   \n",
       "3                            0                              1   \n",
       "4                            0                              1   \n",
       "\n",
       "   HLTHPREG_Not sure/dont know  HLTHPREG_Refused  HLTHPREG_Yes  \\\n",
       "0                            0                 0             0   \n",
       "1                            0                 0             0   \n",
       "2                            0                 0             0   \n",
       "3                            0                 0             0   \n",
       "4                            0                 0             0   \n",
       "\n",
       "   PREGEVER_Refused  REGION_New York City (NYC)  DIABETE3  \n",
       "0                 0                           0        No  \n",
       "1                 0                           1        No  \n",
       "2                 0                           0        No  \n",
       "3                 0                           0        No  \n",
       "4                 0                           1        No  \n",
       "\n",
       "[5 rows x 221 columns]"
      ]
     },
     "execution_count": 6,
     "metadata": {},
     "output_type": "execute_result"
    }
   ],
   "source": [
    "#append DIABETE3 columns to df_xnew dataframe\n",
    "df_new = pd.concat([df_xnew, df_y], axis =1 )\n",
    "df_new.head()"
   ]
  },
  {
   "cell_type": "code",
   "execution_count": 7,
   "metadata": {},
   "outputs": [
    {
     "data": {
      "text/plain": [
       "No                                           5848\n",
       "Yes                                           842\n",
       "No pre-diabetes or borderline diabetes        110\n",
       "Yes but female told only during pregnancy      51\n",
       "Refused                                         7\n",
       "Don’t know/Not Sure                             7\n",
       "Name: DIABETE3, dtype: int64"
      ]
     },
     "execution_count": 7,
     "metadata": {},
     "output_type": "execute_result"
    }
   ],
   "source": [
    "df_new.DIABETE3.value_counts()"
   ]
  },
  {
   "cell_type": "code",
   "execution_count": 8,
   "metadata": {},
   "outputs": [
    {
     "data": {
      "text/plain": [
       "No     5848\n",
       "Yes     842\n",
       "Name: DIABETE3, dtype: int64"
      ]
     },
     "execution_count": 8,
     "metadata": {},
     "output_type": "execute_result"
    }
   ],
   "source": [
    "#The response variable has six categories, and the classes are significantly imbalanced. \n",
    "# People are less likely to provide false information in the four minority classes, \n",
    "#[\"No pre-diabetes or borderline diabetes \",\"Yes but female told only during pregnancy\",\"Refused\",\n",
    "#\"Don’t know/Not Sure\"]\n",
    "#So in this model, we are only going to use yes and no cases to predict diabetes\n",
    "\n",
    "df_binary = df_new[df_new.DIABETE3.isin(['No','Yes'])]\n",
    "df_binary.DIABETE3.value_counts()"
   ]
  },
  {
   "cell_type": "code",
   "execution_count": 9,
   "metadata": {},
   "outputs": [
    {
     "data": {
      "text/plain": [
       "<matplotlib.axes._subplots.AxesSubplot at 0x1a11a97550>"
      ]
     },
     "execution_count": 9,
     "metadata": {},
     "output_type": "execute_result"
    },
    {
     "data": {
      "image/png": "[encoded data removed]",
      "text/plain": [
       "<matplotlib.figure.Figure at 0x1a122265f8>"
      ]
     },
     "metadata": {},
     "output_type": "display_data"
    }
   ],
   "source": [
    "pd.value_counts(df_new.DIABETE3.values, sort=True).plot.bar()"
   ]
  },
  {
   "cell_type": "code",
   "execution_count": 10,
   "metadata": {},
   "outputs": [
    {
     "data": {
      "text/plain": [
       "<matplotlib.axes._subplots.AxesSubplot at 0x1a12226e10>"
      ]
     },
     "execution_count": 10,
     "metadata": {},
     "output_type": "execute_result"
    },
    {
     "data": {
      "image/png": "[encoded data removed]",
      "text/plain": [
       "<matplotlib.figure.Figure at 0x1a121dcb38>"
      ]
     },
     "metadata": {},
     "output_type": "display_data"
    }
   ],
   "source": [
    "pd.value_counts(df_new.DIABETE3.isin(['No','Yes']).values, sort=True).plot.bar()"
   ]
  },
  {
   "cell_type": "markdown",
   "metadata": {},
   "source": [
    "# Base model selection\n",
    "Preliminary model selection among\n",
    "logistic regression, random forest, svm, naive bayes, KNN"
   ]
  },
  {
   "cell_type": "code",
   "execution_count": 11,
   "metadata": {},
   "outputs": [],
   "source": [
    "#split into train and test\n",
    "y = df_binary['DIABETE3']\n",
    "X= df_binary.drop(columns =['DIABETE3'])\n",
    "X_train,X_test,y_train,y_test  =train_test_split(X,y,  test_size=0.3)"
   ]
  },
  {
   "cell_type": "code",
   "execution_count": 12,
   "metadata": {},
   "outputs": [],
   "source": [
    "def scorematrix(X_train,y_train,X_test,y_test):\n",
    "    models = [RandomForestClassifier(), GaussianNB(), SVC(class_weight = 'balanced'), KNeighborsClassifier(), LogisticRegression()]\n",
    "    modelnames = ['RandomForest', 'GaussianNB','SVC','Kneighbors','LogisticRegression']\n",
    "\n",
    "    scorenames = ['precision','recall','f1','accuracy']\n",
    "    precision = []\n",
    "    recall =[]\n",
    "    f1 = []\n",
    "    accuracy = []\n",
    "\n",
    "    for model in models:\n",
    "        model.fit(X_train,y_train)\n",
    "        y_pred = model.predict(X_test)\n",
    "        precision.append(precision_score(y_test,y_pred, average = 'weighted'))\n",
    "        recall.append(recall_score(y_test,y_pred,average = 'weighted'))\n",
    "        f1.append(f1_score(y_test,y_pred,average = 'weighted'))\n",
    "        accuracy.append(accuracy_score(y_test,y_pred))\n",
    "\n",
    "    scores_df = pd.DataFrame({'precision':precision,'recall':recall,'f1':f1,'accuracy':accuracy})\n",
    "    scores_df.set_index([modelnames], inplace = True)\n",
    "\n",
    "    return scores_df"
   ]
  },
  {
   "cell_type": "code",
   "execution_count": 13,
   "metadata": {
    "scrolled": true
   },
   "outputs": [
    {
     "data": {
      "text/html": [
       "<div>\n",
       "<style scoped>\n",
       "    .dataframe tbody tr th:only-of-type {\n",
       "        vertical-align: middle;\n",
       "    }\n",
       "\n",
       "    .dataframe tbody tr th {\n",
       "        vertical-align: top;\n",
       "    }\n",
       "\n",
       "    .dataframe thead th {\n",
       "        text-align: right;\n",
       "    }\n",
       "</style>\n",
       "<table border=\"1\" class=\"dataframe\">\n",
       "  <thead>\n",
       "    <tr style=\"text-align: right;\">\n",
       "      <th></th>\n",
       "      <th>accuracy</th>\n",
       "      <th>f1</th>\n",
       "      <th>precision</th>\n",
       "      <th>recall</th>\n",
       "    </tr>\n",
       "  </thead>\n",
       "  <tbody>\n",
       "    <tr>\n",
       "      <th>RandomForest</th>\n",
       "      <td>0.917289</td>\n",
       "      <td>0.903727</td>\n",
       "      <td>0.915454</td>\n",
       "      <td>0.917289</td>\n",
       "    </tr>\n",
       "    <tr>\n",
       "      <th>GaussianNB</th>\n",
       "      <td>0.599402</td>\n",
       "      <td>0.661654</td>\n",
       "      <td>0.892148</td>\n",
       "      <td>0.599402</td>\n",
       "    </tr>\n",
       "    <tr>\n",
       "      <th>SVC</th>\n",
       "      <td>0.827603</td>\n",
       "      <td>0.850345</td>\n",
       "      <td>0.906390</td>\n",
       "      <td>0.827603</td>\n",
       "    </tr>\n",
       "    <tr>\n",
       "      <th>Kneighbors</th>\n",
       "      <td>0.878426</td>\n",
       "      <td>0.851406</td>\n",
       "      <td>0.853054</td>\n",
       "      <td>0.878426</td>\n",
       "    </tr>\n",
       "    <tr>\n",
       "      <th>LogisticRegression</th>\n",
       "      <td>0.929248</td>\n",
       "      <td>0.922944</td>\n",
       "      <td>0.925154</td>\n",
       "      <td>0.929248</td>\n",
       "    </tr>\n",
       "  </tbody>\n",
       "</table>\n",
       "</div>"
      ],
      "text/plain": [
       "                    accuracy        f1  precision    recall\n",
       "RandomForest        0.917289  0.903727   0.915454  0.917289\n",
       "GaussianNB          0.599402  0.661654   0.892148  0.599402\n",
       "SVC                 0.827603  0.850345   0.906390  0.827603\n",
       "Kneighbors          0.878426  0.851406   0.853054  0.878426\n",
       "LogisticRegression  0.929248  0.922944   0.925154  0.929248"
      ]
     },
     "execution_count": 13,
     "metadata": {},
     "output_type": "execute_result"
    }
   ],
   "source": [
    "scorematrix(X_train,y_train,X_test,y_test)\n",
    "#From the score matrix we can see that radom forest and linear regression performs better than other algorithms.\n",
    "# Naive Bayes, it performed very poorly because of the feature independence assumption\n",
    "# I eliminated SVC and Kneighbors because of its low accuracy/precision/recall score and lack of interpretability\n",
    "#below we will do a bit more investigation on logistic regression and random forest"
   ]
  },
  {
   "cell_type": "code",
   "execution_count": 14,
   "metadata": {},
   "outputs": [
    {
     "name": "stdout",
     "output_type": "stream",
     "text": [
      "0.9292476332835077\n",
      "             precision    recall  f1-score   support\n",
      "\n",
      "         No       0.94      0.98      0.96      1746\n",
      "        Yes       0.84      0.56      0.67       261\n",
      "\n",
      "avg / total       0.93      0.93      0.92      2007\n",
      "\n"
     ]
    }
   ],
   "source": [
    "#logistic regression\n",
    "model = LogisticRegression()\n",
    "model.fit(X_train, y_train)\n",
    "predictions = model.predict(X_test)\n",
    "print (accuracy_score(y_test,predictions))\n",
    "print(metrics.classification_report(y_test,predictions))"
   ]
  },
  {
   "cell_type": "code",
   "execution_count": 15,
   "metadata": {},
   "outputs": [
    {
     "name": "stdout",
     "output_type": "stream",
     "text": [
      "             precision    recall  f1-score   support\n",
      "\n",
      "         No       0.94      0.99      0.97      4102\n",
      "        Yes       0.88      0.59      0.70       581\n",
      "\n",
      "avg / total       0.94      0.94      0.93      4683\n",
      "\n"
     ]
    }
   ],
   "source": [
    "# if you use the logistic model on X train, we get about 94% accuracy, indicating there are some misrepresentation \n",
    "#in the data\n",
    "predictions = model.predict(X_train)\n",
    "print(metrics.classification_report(y_train,predictions))"
   ]
  },
  {
   "cell_type": "code",
   "execution_count": 16,
   "metadata": {},
   "outputs": [
    {
     "name": "stdout",
     "output_type": "stream",
     "text": [
      "             precision    recall  f1-score   support\n",
      "\n",
      "         No       0.91      0.99      0.95      1746\n",
      "        Yes       0.86      0.36      0.51       261\n",
      "\n",
      "avg / total       0.91      0.91      0.89      2007\n",
      "\n"
     ]
    }
   ],
   "source": [
    "#random forest\n",
    "model = RandomForestClassifier()\n",
    "model.fit(X_train,y_train)\n",
    "predictions= model.predict(X_test)\n",
    "print(metrics.classification_report(y_test,predictions))"
   ]
  },
  {
   "cell_type": "markdown",
   "metadata": {},
   "source": [
    "# Result\n",
    "Logistic regresion and random forest outperformed other algorithms. \n",
    "\n",
    "Naive Bayes performed poorly because this data doesn't follow the assumption that features are independent from each other\n",
    "\n",
    "I eliminated KNN, SVM due to its low performance and lack of iterpretability. \n",
    "\n",
    "In the next model improvement section, we will perform improvement on Logistic regression and random forest model\n"
   ]
  },
  {
   "cell_type": "markdown",
   "metadata": {},
   "source": [
    "# Model Improvement\n",
    "1. Use smote sampling to see how model performs in balanced classes\n",
    "2. Tune hyper parameter for logistic regression and random forest"
   ]
  },
  {
   "cell_type": "code",
   "execution_count": 17,
   "metadata": {},
   "outputs": [],
   "source": [
    "#The classes are significantly imbalanced, going to perform smote sampling before fitting any models\n",
    "smote = SMOTE(kind = \"regular\")\n",
    "X_smtrain, y_smtrain = smote.fit_sample(X_train, y_train)"
   ]
  },
  {
   "cell_type": "code",
   "execution_count": 18,
   "metadata": {},
   "outputs": [
    {
     "data": {
      "text/plain": [
       "{'C': 1.0}"
      ]
     },
     "execution_count": 18,
     "metadata": {},
     "output_type": "execute_result"
    }
   ],
   "source": [
    "#grid search on logistic regression\n",
    "grid = {'C': np.power(10.0, np.arange(-10, 10))}\n",
    "clf = LogisticRegression(penalty='l2', random_state=777, max_iter=10000)\n",
    "gs = GridSearchCV(clf, grid, cv=5)\n",
    "gs.fit(X_smtrain, y_smtrain)\n",
    "gs.best_params_"
   ]
  },
  {
   "cell_type": "code",
   "execution_count": 19,
   "metadata": {},
   "outputs": [
    {
     "name": "stdout",
     "output_type": "stream",
     "text": [
      "Fitting 3 folds for each of 30 candidates, totalling 90 fits\n"
     ]
    },
    {
     "name": "stderr",
     "output_type": "stream",
     "text": [
      "[Parallel(n_jobs=1)]: Done  90 out of  90 | elapsed:  8.0min finished\n"
     ]
    },
    {
     "data": {
      "text/plain": [
       "{'bootstrap': False,\n",
       " 'max_depth': 60,\n",
       " 'max_features': 'sqrt',\n",
       " 'min_samples_leaf': 1,\n",
       " 'min_samples_split': 5,\n",
       " 'n_estimators': 600}"
      ]
     },
     "execution_count": 19,
     "metadata": {},
     "output_type": "execute_result"
    }
   ],
   "source": [
    "#randomized search on random forest hyperparameters\n",
    "\n",
    "n_estimators = [int(x) for x in np.linspace(start = 200, stop = 2000, num = 10)]\n",
    "# Number of features to consider at every split\n",
    "max_features = ['auto', 'sqrt']\n",
    "# Maximum number of levels in tree\n",
    "max_depth = [int(x) for x in np.linspace(10, 110, num = 11)]\n",
    "max_depth.append(None)\n",
    "# Minimum number of samples required to split a node\n",
    "min_samples_split = [2, 5, 10]\n",
    "# Minimum number of samples required at each leaf node\n",
    "min_samples_leaf = [1, 2, 4]\n",
    "# Method of selecting samples for training each tree\n",
    "bootstrap = [True, False]\n",
    "# Create the random grid\n",
    "random_grid = {'n_estimators': n_estimators,\n",
    "               'max_features': max_features,\n",
    "               'max_depth': max_depth,\n",
    "               'min_samples_split': min_samples_split,\n",
    "               'min_samples_leaf': min_samples_leaf,\n",
    "               'bootstrap': bootstrap}\n",
    "\n",
    "rf = RandomForestClassifier()\n",
    "# Random search of parameters, using 3 fold cross validation, \n",
    "# search across 100 different combinations, and use all available cores\n",
    "rf_random = RandomizedSearchCV(estimator = rf, param_distributions = random_grid, n_iter = 30, cv = 3, verbose=1)\n",
    "# Fit the random search model\n",
    "rf_random.fit(X_train,y_train)\n",
    "\n",
    "\n",
    "rf_random.best_params_"
   ]
  },
  {
   "cell_type": "code",
   "execution_count": 20,
   "metadata": {},
   "outputs": [
    {
     "name": "stdout",
     "output_type": "stream",
     "text": [
      "             precision    recall  f1-score   support\n",
      "\n",
      "         No       0.93      0.98      0.96      1746\n",
      "        Yes       0.83      0.51      0.64       261\n",
      "\n",
      "avg / total       0.92      0.92      0.92      2007\n",
      "\n"
     ]
    }
   ],
   "source": [
    "rfmodel = RandomForestClassifier(max_depth = 110, max_features = 'auto',min_samples_leaf = 1,min_samples_split=5,n_estimators=1800)\n",
    "rfmodel.fit(X_smtrain, y_smtrain)\n",
    "rfpredictions = rfmodel.predict(X_test)\n",
    "print(metrics.classification_report(y_test,rfpredictions))"
   ]
  },
  {
   "cell_type": "code",
   "execution_count": 21,
   "metadata": {},
   "outputs": [
    {
     "name": "stdout",
     "output_type": "stream",
     "text": [
      "             precision    recall  f1-score   support\n",
      "\n",
      "         No       0.97      0.87      0.92      1746\n",
      "        Yes       0.49      0.82      0.61       261\n",
      "\n",
      "avg / total       0.91      0.87      0.88      2007\n",
      "\n"
     ]
    }
   ],
   "source": [
    "lrmodel = LogisticRegression(C=10000)\n",
    "lrmodel.fit(X_smtrain, y_smtrain)\n",
    "lrpredictions = lrmodel.predict(X_test)\n",
    "print(metrics.classification_report(y_test,lrpredictions))"
   ]
  },
  {
   "cell_type": "code",
   "execution_count": 22,
   "metadata": {},
   "outputs": [],
   "source": [
    "def cm(y_test,y_pred):\n",
    "    cmdata = confusion_matrix(y_test,y_pred)\n",
    "    df_cm = pd.DataFrame(cmdata, index = ['yes','no'],\n",
    "                                 columns = ['yes','no'])\n",
    "    plt.figure (figsize = (10,7))\n",
    "    sn.heatmap(df_cm,annot = True , annot_kws={'size':16}, fmt='g')"
   ]
  },
  {
   "cell_type": "code",
   "execution_count": 23,
   "metadata": {},
   "outputs": [
    {
     "data": {
      "image/png": "[encoded data removed]",
      "text/plain": [
       "<matplotlib.figure.Figure at 0x1a121eb630>"
      ]
     },
     "metadata": {},
     "output_type": "display_data"
    }
   ],
   "source": [
    "#logistic regression model confusion matrix\n",
    "cm(y_test,lrpredictions)"
   ]
  },
  {
   "cell_type": "code",
   "execution_count": 24,
   "metadata": {},
   "outputs": [
    {
     "data": {
      "image/png": "[encoded data removed]",
      "text/plain": [
       "<matplotlib.figure.Figure at 0x1a2282a198>"
      ]
     },
     "metadata": {},
     "output_type": "display_data"
    }
   ],
   "source": [
    "#random forest model confusion matrix \n",
    "cm(y_test,rfpredictions)"
   ]
  },
  {
   "cell_type": "code",
   "execution_count": 25,
   "metadata": {},
   "outputs": [],
   "source": [
    "#As we can see from the accuracy report and confusion matrix\n",
    "#random forest performs better than logistic regression"
   ]
  },
  {
   "cell_type": "markdown",
   "metadata": {},
   "source": [
    "# Misrepresentation modeling"
   ]
  },
  {
   "cell_type": "code",
   "execution_count": 26,
   "metadata": {},
   "outputs": [
    {
     "name": "stderr",
     "output_type": "stream",
     "text": [
      "/Users/windflower715/anaconda/lib/python3.5/site-packages/ipykernel/__main__.py:3: UserWarning: Pandas doesn't allow columns to be created via a new attribute name - see https://pandas.pydata.org/pandas-docs/stable/indexing.html#attribute-access\n",
      "  app.launch_new_instance()\n",
      "/Users/windflower715/anaconda/lib/python3.5/site-packages/ipykernel/__main__.py:4: UserWarning: Pandas doesn't allow columns to be created via a new attribute name - see https://pandas.pydata.org/pandas-docs/stable/indexing.html#attribute-access\n",
      "/Users/windflower715/anaconda/lib/python3.5/site-packages/ipykernel/__main__.py:5: UserWarning: Pandas doesn't allow columns to be created via a new attribute name - see https://pandas.pydata.org/pandas-docs/stable/indexing.html#attribute-access\n"
     ]
    }
   ],
   "source": [
    "#append non-binary values next to the test dataframe to see the misrepresentation\n",
    "df.non_binary = df_new[df_new.DIABETE3.isin(['No pre-diabetes or borderline diabetes','Yes but female told only during pregnancy',\n",
    "                                            'Don’t know/Not Sure','Refused'])]\n",
    "df.non_binaryx = df.non_binary.drop(columns = ['DIABETE3'])\n",
    "df.non_binaryy = df.non_binary.DIABETE3"
   ]
  },
  {
   "cell_type": "code",
   "execution_count": 27,
   "metadata": {},
   "outputs": [],
   "source": [
    "X_testnew = X_test.append(df.non_binaryx)\n",
    "y_testnew = y_test.append(df.non_binaryy)"
   ]
  },
  {
   "cell_type": "code",
   "execution_count": 28,
   "metadata": {},
   "outputs": [
    {
     "data": {
      "text/html": [
       "<div>\n",
       "<style scoped>\n",
       "    .dataframe tbody tr th:only-of-type {\n",
       "        vertical-align: middle;\n",
       "    }\n",
       "\n",
       "    .dataframe tbody tr th {\n",
       "        vertical-align: top;\n",
       "    }\n",
       "\n",
       "    .dataframe thead th {\n",
       "        text-align: right;\n",
       "    }\n",
       "</style>\n",
       "<table border=\"1\" class=\"dataframe\">\n",
       "  <thead>\n",
       "    <tr style=\"text-align: right;\">\n",
       "      <th></th>\n",
       "      <th>actual</th>\n",
       "      <th>predictions</th>\n",
       "      <th>0</th>\n",
       "    </tr>\n",
       "  </thead>\n",
       "  <tbody>\n",
       "    <tr>\n",
       "      <th>0</th>\n",
       "      <td>Don’t know/Not Sure</td>\n",
       "      <td>No</td>\n",
       "      <td>7</td>\n",
       "    </tr>\n",
       "    <tr>\n",
       "      <th>1</th>\n",
       "      <td>No</td>\n",
       "      <td>No</td>\n",
       "      <td>1719</td>\n",
       "    </tr>\n",
       "    <tr>\n",
       "      <th>2</th>\n",
       "      <td>No</td>\n",
       "      <td>Yes</td>\n",
       "      <td>27</td>\n",
       "    </tr>\n",
       "    <tr>\n",
       "      <th>3</th>\n",
       "      <td>No pre-diabetes or borderline diabetes</td>\n",
       "      <td>No</td>\n",
       "      <td>94</td>\n",
       "    </tr>\n",
       "    <tr>\n",
       "      <th>4</th>\n",
       "      <td>No pre-diabetes or borderline diabetes</td>\n",
       "      <td>Yes</td>\n",
       "      <td>16</td>\n",
       "    </tr>\n",
       "    <tr>\n",
       "      <th>5</th>\n",
       "      <td>Refused</td>\n",
       "      <td>No</td>\n",
       "      <td>6</td>\n",
       "    </tr>\n",
       "    <tr>\n",
       "      <th>6</th>\n",
       "      <td>Refused</td>\n",
       "      <td>Yes</td>\n",
       "      <td>1</td>\n",
       "    </tr>\n",
       "    <tr>\n",
       "      <th>7</th>\n",
       "      <td>Yes</td>\n",
       "      <td>No</td>\n",
       "      <td>127</td>\n",
       "    </tr>\n",
       "    <tr>\n",
       "      <th>8</th>\n",
       "      <td>Yes</td>\n",
       "      <td>Yes</td>\n",
       "      <td>134</td>\n",
       "    </tr>\n",
       "    <tr>\n",
       "      <th>9</th>\n",
       "      <td>Yes but female told only during pregnancy</td>\n",
       "      <td>No</td>\n",
       "      <td>49</td>\n",
       "    </tr>\n",
       "    <tr>\n",
       "      <th>10</th>\n",
       "      <td>Yes but female told only during pregnancy</td>\n",
       "      <td>Yes</td>\n",
       "      <td>2</td>\n",
       "    </tr>\n",
       "  </tbody>\n",
       "</table>\n",
       "</div>"
      ],
      "text/plain": [
       "                                       actual predictions     0\n",
       "0                         Don’t know/Not Sure          No     7\n",
       "1                                          No          No  1719\n",
       "2                                          No         Yes    27\n",
       "3      No pre-diabetes or borderline diabetes          No    94\n",
       "4      No pre-diabetes or borderline diabetes         Yes    16\n",
       "5                                     Refused          No     6\n",
       "6                                     Refused         Yes     1\n",
       "7                                         Yes          No   127\n",
       "8                                         Yes         Yes   134\n",
       "9   Yes but female told only during pregnancy          No    49\n",
       "10  Yes but female told only during pregnancy         Yes     2"
      ]
     },
     "execution_count": 28,
     "metadata": {},
     "output_type": "execute_result"
    }
   ],
   "source": [
    "predictions = rfmodel.predict(X_testnew)\n",
    "output = pd.DataFrame({'actual':y_testnew, 'predictions':predictions})\n",
    "output.groupby(['actual','predictions']).size().reset_index()\n",
    "#this table gives us a a good idea of misrepresentation in the survey data"
   ]
  },
  {
   "cell_type": "code",
   "execution_count": 29,
   "metadata": {},
   "outputs": [
    {
     "data": {
      "text/plain": [
       "0.09578368469294225"
      ]
     },
     "execution_count": 29,
     "metadata": {},
     "output_type": "execute_result"
    }
   ],
   "source": [
    "#misrepresentation rate are the answers that are different from actual informations\n",
    "(24+15+120+50)/2182\n",
    "\n",
    "#misrepresentation rate in the entire survey is about 10%\n",
    "#More specifically, about 48% of people who claimed with diabetes actually don't have diabetes\n",
    "# about 1.4% of people who said they don't have diabetes is likely to have diabetes according to the model"
   ]
  },
  {
   "cell_type": "code",
   "execution_count": 30,
   "metadata": {},
   "outputs": [
    {
     "data": {
      "text/plain": [
       "([<matplotlib.axis.XTick at 0x1a11df5ba8>,\n",
       "  <matplotlib.axis.XTick at 0x1a11debe80>,\n",
       "  <matplotlib.axis.XTick at 0x1a11dfa198>,\n",
       "  <matplotlib.axis.XTick at 0x1a11ea2c18>,\n",
       "  <matplotlib.axis.XTick at 0x1a11eaa2e8>,\n",
       "  <matplotlib.axis.XTick at 0x1a11eaa978>,\n",
       "  <matplotlib.axis.XTick at 0x1a11eac048>,\n",
       "  <matplotlib.axis.XTick at 0x1a11eac6d8>,\n",
       "  <matplotlib.axis.XTick at 0x1a11eacd68>],\n",
       " <a list of 9 Text xticklabel objects>)"
      ]
     },
     "execution_count": 30,
     "metadata": {},
     "output_type": "execute_result"
    },
    {
     "data": {
      "image/png": "[encoded data removed]",
      "text/plain": [
       "<matplotlib.figure.Figure at 0x1a11e91eb8>"
      ]
     },
     "metadata": {},
     "output_type": "display_data"
    }
   ],
   "source": [
    "#now let's take a look at the top 10 important features that leads to diabetes\n",
    "importances = rfmodel.feature_importances_\n",
    "flist = sorted([(v, list(X_train.columns)[i]) for i,v in enumerate(importances)],reverse=True)\n",
    "fim1 = [i[0] for i in flist]\n",
    "fname =[i[1] for i in flist]\n",
    "plt.bar(np.linspace(1,9,9) ,fim1[:9], align = 'center')\n",
    "plt.xticks(np.linspace(1,9,9),fname[:9], rotation =90)\n",
    "\n"
   ]
  },
  {
   "cell_type": "markdown",
   "metadata": {},
   "source": [
    " # Neural Network predictions"
   ]
  },
  {
   "cell_type": "code",
   "execution_count": 31,
   "metadata": {},
   "outputs": [
    {
     "name": "stderr",
     "output_type": "stream",
     "text": [
      "/Users/windflower715/anaconda/lib/python3.5/importlib/_bootstrap.py:222: RuntimeWarning: compiletime version 3.6 of module 'tensorflow.python.framework.fast_tensor_util' does not match runtime version 3.5\n",
      "  return f(*args, **kwds)\n",
      "/Users/windflower715/anaconda/lib/python3.5/site-packages/h5py/__init__.py:36: FutureWarning: Conversion of the second argument of issubdtype from `float` to `np.floating` is deprecated. In future, it will be treated as `np.float64 == np.dtype(float).type`.\n",
      "  from ._conv import register_converters as _register_converters\n",
      "Using TensorFlow backend.\n"
     ]
    }
   ],
   "source": [
    "import tensorflow as tf\n",
    "from six.moves import range\n",
    "\n",
    "%config InlineBackend.figure_format = 'retina'\n",
    "\n",
    "\n",
    "\n",
    "from tensorflow.contrib import keras\n",
    "from keras import models, layers, losses, optimizers, metrics\n",
    "\n",
    "# Input data files are available in the \"../input/\" directory.\n",
    "# For example, running this (by clicking run or pressing Shift+Enter) will list the files in the input directory\n",
    "\n"
   ]
  },
  {
   "cell_type": "code",
   "execution_count": 34,
   "metadata": {},
   "outputs": [],
   "source": [
    "y_train[y_train == 'No'] = 0\n",
    "y_train[y_train == 'Yes'] = 1\n",
    "y_test[y_test == 'No'] = 0\n",
    "y_test[y_test == 'Yes'] = 1\n"
   ]
  },
  {
   "cell_type": "code",
   "execution_count": 35,
   "metadata": {},
   "outputs": [
    {
     "name": "stdout",
     "output_type": "stream",
     "text": [
      "Train on 4683 samples, validate on 2007 samples\n",
      "Epoch 1/25\n",
      "4683/4683 [==============================] - 3s 640us/step - loss: 0.3789 - acc: 0.8710 - val_loss: 0.3097 - val_acc: 0.8824\n",
      "Epoch 2/25\n",
      "4683/4683 [==============================] - 2s 401us/step - loss: 0.2904 - acc: 0.8879 - val_loss: 0.2620 - val_acc: 0.8809\n",
      "Epoch 3/25\n",
      "4683/4683 [==============================] - 2s 389us/step - loss: 0.2332 - acc: 0.9069 - val_loss: 0.2200 - val_acc: 0.9078\n",
      "Epoch 4/25\n",
      "4683/4683 [==============================] - 2s 360us/step - loss: 0.2083 - acc: 0.9107 - val_loss: 0.1915 - val_acc: 0.9208\n",
      "Epoch 5/25\n",
      "4683/4683 [==============================] - 2s 406us/step - loss: 0.2143 - acc: 0.9165 - val_loss: 0.1974 - val_acc: 0.9208\n",
      "Epoch 6/25\n",
      "4683/4683 [==============================] - 2s 383us/step - loss: 0.1888 - acc: 0.9246 - val_loss: 0.1875 - val_acc: 0.9273\n",
      "Epoch 7/25\n",
      "4683/4683 [==============================] - 2s 374us/step - loss: 0.1812 - acc: 0.9278 - val_loss: 0.2898 - val_acc: 0.9153\n",
      "Epoch 8/25\n",
      "4683/4683 [==============================] - 2s 395us/step - loss: 0.1789 - acc: 0.9285 - val_loss: 0.1761 - val_acc: 0.9268\n",
      "Epoch 9/25\n",
      "4683/4683 [==============================] - 2s 416us/step - loss: 0.1753 - acc: 0.9312 - val_loss: 0.1850 - val_acc: 0.9248\n",
      "Epoch 10/25\n",
      "4683/4683 [==============================] - 2s 364us/step - loss: 0.1763 - acc: 0.9304 - val_loss: 0.1727 - val_acc: 0.9302\n",
      "Epoch 11/25\n",
      "4683/4683 [==============================] - 2s 385us/step - loss: 0.1713 - acc: 0.9291 - val_loss: 0.1730 - val_acc: 0.9327\n",
      "Epoch 12/25\n",
      "4683/4683 [==============================] - 2s 438us/step - loss: 0.1644 - acc: 0.9355 - val_loss: 0.1839 - val_acc: 0.9253\n",
      "Epoch 13/25\n",
      "4683/4683 [==============================] - 2s 483us/step - loss: 0.1617 - acc: 0.9317 - val_loss: 0.2079 - val_acc: 0.9278\n",
      "Epoch 14/25\n",
      "4683/4683 [==============================] - 2s 491us/step - loss: 0.1784 - acc: 0.9280 - val_loss: 0.2124 - val_acc: 0.9238\n",
      "Epoch 15/25\n",
      "4683/4683 [==============================] - 2s 422us/step - loss: 0.1677 - acc: 0.9291 - val_loss: 0.3896 - val_acc: 0.8565\n",
      "Epoch 16/25\n",
      "4683/4683 [==============================] - 2s 398us/step - loss: 0.1689 - acc: 0.9270 - val_loss: 0.1703 - val_acc: 0.9322\n",
      "Epoch 17/25\n",
      "4683/4683 [==============================] - 2s 433us/step - loss: 0.1716 - acc: 0.9334 - val_loss: 0.1730 - val_acc: 0.9307\n",
      "Epoch 18/25\n",
      "4683/4683 [==============================] - 2s 358us/step - loss: 0.1624 - acc: 0.9353 - val_loss: 0.1825 - val_acc: 0.9317\n",
      "Epoch 19/25\n",
      "4683/4683 [==============================] - 2s 348us/step - loss: 0.1645 - acc: 0.9325 - val_loss: 0.2034 - val_acc: 0.9312\n",
      "Epoch 20/25\n",
      "4683/4683 [==============================] - 2s 392us/step - loss: 0.1752 - acc: 0.9278 - val_loss: 0.1731 - val_acc: 0.9297\n",
      "Epoch 21/25\n",
      "4683/4683 [==============================] - 2s 410us/step - loss: 0.1577 - acc: 0.9347 - val_loss: 0.1810 - val_acc: 0.9307\n",
      "Epoch 22/25\n",
      "4683/4683 [==============================] - 2s 418us/step - loss: 0.1624 - acc: 0.9312 - val_loss: 0.1766 - val_acc: 0.9283\n",
      "Epoch 23/25\n",
      "4683/4683 [==============================] - 3s 540us/step - loss: 0.1578 - acc: 0.9327 - val_loss: 0.1735 - val_acc: 0.9307\n",
      "Epoch 24/25\n",
      "4683/4683 [==============================] - 2s 411us/step - loss: 0.1559 - acc: 0.9349 - val_loss: 0.1804 - val_acc: 0.9287\n",
      "Epoch 25/25\n",
      "4683/4683 [==============================] - 2s 429us/step - loss: 0.1503 - acc: 0.9385 - val_loss: 0.1952 - val_acc: 0.9253\n"
     ]
    },
    {
     "data": {
      "text/plain": [
       "<keras.callbacks.History at 0x1c2f366a90>"
      ]
     },
     "execution_count": 35,
     "metadata": {},
     "output_type": "execute_result"
    }
   ],
   "source": [
    "model2 = models.Sequential()\n",
    "model2.add(layers.Dense(100, input_dim=220, activation='relu')) \n",
    "model2.add(layers.Dense(527, activation='relu'))\n",
    "model2.add(layers.Dense(320, activation='relu'))\n",
    "model2.add(layers.Dense(320, activation='relu'))\n",
    "model2.add(layers.Dense(320, activation='relu'))\n",
    "model2.add(layers.Dense(115, activation='relu'))\n",
    "model2.add(layers.Dense(1, activation='sigmoid'))\n",
    "model2.compile(loss='binary_crossentropy', optimizer='adam', metrics=['accuracy'])\n",
    "\n",
    "#set up early stopping to prevent overfitting \n",
    "cb=keras.callbacks.EarlyStopping(monitor='val_loss', min_delta=0, patience=20, verbose=0, mode='auto')\n",
    "\n",
    "model2.fit(X_train, y_train, epochs=25, validation_data=(X_test, y_test), callbacks = [cb])"
   ]
  },
  {
   "cell_type": "code",
   "execution_count": null,
   "metadata": {},
   "outputs": [],
   "source": []
  }
 ],
 "metadata": {
  "anaconda-cloud": {},
  "kernelspec": {
   "display_name": "Python [Root]",
   "language": "python",
   "name": "Python [Root]"
  },
  "language_info": {
   "codemirror_mode": {
    "name": "ipython",
    "version": 3
   },
   "file_extension": ".py",
   "mimetype": "text/x-python",
   "name": "python",
   "nbconvert_exporter": "python",
   "pygments_lexer": "ipython3",
   "version": "3.5.4"
  }
 },
 "nbformat": 4,
 "nbformat_minor": 2
}
